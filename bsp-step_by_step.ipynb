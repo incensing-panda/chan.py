{
 "cells": [
  {
   "cell_type": "code",
   "execution_count": 1,
   "id": "6d4834ba",
   "metadata": {},
   "outputs": [
    {
     "name": "stdout",
     "output_type": "stream",
     "text": [
      "True 1\n",
      "False 1\n",
      "True 1\n",
      "False 1\n",
      "True 1\n",
      "False 1p\n",
      "True 1\n",
      "False 1\n",
      "True 1p\n",
      "False 1\n",
      "True 2\n",
      "True 2s\n",
      "True 2s\n",
      "False 2,3b\n",
      "False 2s\n",
      "True 2\n",
      "False 2\n",
      "False 2s\n",
      "True 2\n",
      "False 2\n",
      "True 2,3b\n",
      "True 2s\n",
      "True 2s\n",
      "True 2s\n",
      "False 2\n",
      "True 2\n",
      "False 2,3b\n",
      "False 3a\n",
      "False 3a\n"
     ]
    }
   ],
   "source": [
    "from Common.CEnum import AUTYPE, KL_TYPE\n",
    "import pandas as pd\n",
    "from ChanConfig import CChanConfig\n",
    "from typing import List\n",
    "from Plot.PlotMeta import CBi_meta, CChanPlotMeta, CZS_meta\n",
    "from Chan import CChan\n",
    "from datetime import datetime, timedelta\n",
    "\n",
    "def get_bs_list(begin_time,code,lv_list,end_time=None):\n",
    "#     data_src = \"custom:US5MStockAPI.US5MStock\"\n",
    "    data_src = \"custom:CsvAPI.CsvData\"\n",
    "\n",
    "    config = CChanConfig({\n",
    "        \"bi_strict\": True,\n",
    "        \"triger_step\": False,\n",
    "        \"skip_step\": 0,\n",
    "        \"divergence_rate\": float(\"inf\"),\n",
    "        \"bsp2_follow_1\": True,\n",
    "        \"bsp3_follow_1\": True,\n",
    "        \"min_zs_cnt\": 0,\n",
    "        \"zs_combine_mode\": \"peak\"\n",
    "    })\n",
    "\n",
    "    chan = CChan(\n",
    "        code=code,\n",
    "        begin_time=begin_time,\n",
    "        end_time=end_time,\n",
    "        data_src=data_src,\n",
    "        lv_list=lv_list,\n",
    "        config=config,\n",
    "        autype=AUTYPE.QFQ,\n",
    "    )\n",
    "    return [CChanPlotMeta(chan[kl_type]) for kl_type in chan.lv_list]\n",
    "\n",
    "begin_time=None\n",
    "end_time=None\n",
    "code ='IWM'\n",
    "lv_list=[KL_TYPE.K_5M]\n",
    "meta = get_bs_list(begin_time,code,lv_list,None)\n",
    "\n",
    "for bsp in meta[-1].bs_point_lst:\n",
    "    print(bsp.is_buy, bsp.type)\n",
    "# sth wrong here, you can see is_buy False, but type is `2,3b` \n",
    "# or is_buy True and type `2s`\n",
    "# data is in iwm.csv"
   ]
  }
 ],
 "metadata": {
  "kernelspec": {
   "display_name": "Python 3 (ipykernel)",
   "language": "python",
   "name": "python3"
  },
  "language_info": {
   "codemirror_mode": {
    "name": "ipython",
    "version": 3
   },
   "file_extension": ".py",
   "mimetype": "text/x-python",
   "name": "python",
   "nbconvert_exporter": "python",
   "pygments_lexer": "ipython3",
   "version": "3.11.3"
  }
 },
 "nbformat": 4,
 "nbformat_minor": 5
}
